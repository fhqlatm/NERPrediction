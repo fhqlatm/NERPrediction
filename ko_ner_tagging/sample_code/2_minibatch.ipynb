{
 "cells": [
  {
   "cell_type": "code",
   "execution_count": 2,
   "id": "c3435140-46bc-4805-8817-ed520e7bca46",
   "metadata": {},
   "outputs": [],
   "source": [
    "import os\n",
    "import torch\n",
    "from torch.utils.data import Dataset, DataLoader\n",
    "import random"
   ]
  },
  {
   "cell_type": "code",
   "execution_count": 3,
   "id": "18bbd366-b090-4155-b758-49476368e37b",
   "metadata": {},
   "outputs": [],
   "source": [
    "def make_random_len_data_list(min_len, max_len, num_data):\n",
    "    random_data = []\n",
    "    \n",
    "    for i in range(num_data):\n",
    "        sample_len = random.randrange(min_len, max_len)\n",
    "        sample = [random.randint(0, 9) for ii in range(sample_len)]\n",
    "        random_data.append(sample)\n",
    "    \n",
    "    return random_data"
   ]
  },
  {
   "cell_type": "code",
   "execution_count": 4,
   "id": "cad026c9-e366-4da3-953a-7f669744cab7",
   "metadata": {},
   "outputs": [
    {
     "data": {
      "text/plain": [
       "[[2, 8, 5, 5, 1, 3, 9, 6, 6, 1, 9, 2, 9, 6, 2, 1, 4, 5],\n",
       " [6, 9, 3, 3, 3, 5, 7, 6, 2, 8, 4, 6, 1],\n",
       " [6, 9, 8, 7, 2, 8, 4, 0, 1, 5, 4, 1, 4, 4, 8, 9, 2, 7],\n",
       " [2, 4, 9, 1, 5, 0, 6, 4, 9, 2, 9, 1, 8, 8, 3, 5, 0],\n",
       " [5, 0, 8, 4, 3, 1, 5, 9, 5, 7, 2, 9, 6, 1, 9, 6, 6, 6, 7],\n",
       " [4, 4, 0, 2, 9, 9, 8, 5, 7, 6, 8],\n",
       " [5, 0, 5, 3, 8, 7, 0, 8, 7, 6, 1, 8, 5, 6, 0],\n",
       " [0, 9, 1, 7, 1, 6, 1, 3, 5, 6, 5, 1, 6, 3, 6, 6],\n",
       " [0, 2, 1, 3, 6, 1, 9, 1, 2, 3, 2, 3, 8, 8, 6, 9],\n",
       " [6, 1, 6, 7, 6, 1, 1, 4, 8, 8]]"
      ]
     },
     "execution_count": 4,
     "metadata": {},
     "output_type": "execute_result"
    }
   ],
   "source": [
    "make_random_len_data_list(10, 20, 10)"
   ]
  },
  {
   "cell_type": "code",
   "execution_count": 5,
   "id": "90a965bc-4522-4fc5-9994-0e26b5f87985",
   "metadata": {},
   "outputs": [],
   "source": [
    "class Dataset_custom(Dataset):\n",
    "    def __init__(self, data):\n",
    "        self.x = data\n",
    "    \n",
    "    def __len__(self):\n",
    "        return len(self.x)\n",
    "    \n",
    "    def __getitem__(self, idx):\n",
    "        return self.x[idx]"
   ]
  },
  {
   "cell_type": "code",
   "execution_count": 6,
   "id": "d2a89199-ea0e-4789-9f23-505f013bc25a",
   "metadata": {},
   "outputs": [],
   "source": [
    "def make_same_len(batch):\n",
    "    len_list = [len(sample) for sample in batch]\n",
    "    max_len = max(len_list)\n",
    "    \n",
    "    padded_batch = []\n",
    "    pad_id = 0\n",
    "    \n",
    "    for sample in batch:\n",
    "        padded_batch.append(sample + [pad_id] * (max_len - len(sample)))\n",
    "    \n",
    "    return padded_batch"
   ]
  },
  {
   "cell_type": "code",
   "execution_count": 7,
   "id": "6bf89bc8-d746-4df7-aae8-9c14def4de02",
   "metadata": {},
   "outputs": [],
   "source": [
    "def collate_fn_custom(batch):\n",
    "    padded_batch = make_same_len(batch)\n",
    "    \n",
    "    padded_batch = torch.tensor(padded_batch)\n",
    "    \n",
    "    return padded_batch"
   ]
  },
  {
   "cell_type": "code",
   "execution_count": 11,
   "id": "e505085d-830e-42d8-b993-3411c831bb37",
   "metadata": {},
   "outputs": [],
   "source": [
    "rd = make_random_len_data_list(10, 20, 10)\n",
    "ds = Dataset_custom(rd)"
   ]
  },
  {
   "cell_type": "code",
   "execution_count": 12,
   "id": "d79de45c-3b08-4ac0-bdce-e7b5662bb0b3",
   "metadata": {},
   "outputs": [
    {
     "name": "stdout",
     "output_type": "stream",
     "text": [
      "10\n"
     ]
    },
    {
     "data": {
      "text/plain": [
       "[[4, 4, 9, 1, 4, 2, 3, 5, 3, 2, 8, 9, 8, 1],\n",
       " [9, 4, 8, 7, 5, 6, 2, 9, 3, 9, 8, 0, 5],\n",
       " [4, 5, 8, 2, 9, 0, 5, 0, 0, 3]]"
      ]
     },
     "execution_count": 12,
     "metadata": {},
     "output_type": "execute_result"
    }
   ],
   "source": [
    "print(len(ds))\n",
    "ds[0:3]"
   ]
  },
  {
   "cell_type": "code",
   "execution_count": 13,
   "id": "4263ded3-f35c-4836-b0a3-1de431c95194",
   "metadata": {},
   "outputs": [
    {
     "data": {
      "text/plain": [
       "tensor([[4, 4, 9, 1, 4, 2, 3, 5, 3, 2, 8, 9, 8, 1],\n",
       "        [9, 4, 8, 7, 5, 6, 2, 9, 3, 9, 8, 0, 5, 0],\n",
       "        [4, 5, 8, 2, 9, 0, 5, 0, 0, 3, 0, 0, 0, 0]])"
      ]
     },
     "execution_count": 13,
     "metadata": {},
     "output_type": "execute_result"
    }
   ],
   "source": [
    "collate_fn_custom(ds[0:3])"
   ]
  },
  {
   "cell_type": "code",
   "execution_count": 14,
   "id": "61069f39-c5da-4144-9bd4-46aff38700b5",
   "metadata": {},
   "outputs": [],
   "source": [
    "dl = DataLoader(\n",
    "    ds,\n",
    "    batch_size=2,\n",
    "    shuffle=True,\n",
    "    collate_fn=collate_fn_custom\n",
    ")"
   ]
  },
  {
   "cell_type": "code",
   "execution_count": 15,
   "id": "2450fdbb-5851-4ab5-8244-c5d06262211f",
   "metadata": {},
   "outputs": [
    {
     "name": "stdout",
     "output_type": "stream",
     "text": [
      "tensor([[8, 9, 7, 8, 1, 7, 5, 0, 1, 6, 7, 6, 8, 0, 0, 0, 0, 0, 0],\n",
      "        [3, 8, 3, 2, 2, 2, 8, 9, 0, 4, 8, 1, 2, 7, 0, 1, 3, 8, 9]])\n",
      "tensor([[7, 8, 6, 7, 2, 4, 7, 7, 9, 6, 7, 2, 0, 0, 0, 0, 0],\n",
      "        [6, 5, 9, 1, 5, 1, 1, 5, 7, 1, 7, 3, 1, 4, 4, 9, 4]])\n",
      "tensor([[9, 4, 8, 7, 5, 6, 2, 9, 3, 9, 8, 0, 5, 0, 0, 0],\n",
      "        [7, 7, 3, 5, 3, 4, 4, 1, 1, 9, 1, 2, 0, 4, 5, 3]])\n",
      "tensor([[6, 8, 2, 9, 8, 2, 9, 4, 0, 1, 8, 5, 0, 0],\n",
      "        [4, 4, 9, 1, 4, 2, 3, 5, 3, 2, 8, 9, 8, 1]])\n",
      "tensor([[4, 5, 8, 2, 9, 0, 5, 0, 0, 3, 0, 0],\n",
      "        [0, 2, 4, 7, 2, 1, 3, 9, 2, 3, 3, 1]])\n"
     ]
    }
   ],
   "source": [
    "for i, batch in enumerate(dl):\n",
    "    print(batch)"
   ]
  },
  {
   "cell_type": "code",
   "execution_count": null,
   "id": "380baae7-55d1-4a77-8761-7bcdc7d99faa",
   "metadata": {},
   "outputs": [],
   "source": []
  }
 ],
 "metadata": {
  "kernelspec": {
   "display_name": "Python 3",
   "language": "python",
   "name": "python3"
  },
  "language_info": {
   "codemirror_mode": {
    "name": "ipython",
    "version": 3
   },
   "file_extension": ".py",
   "mimetype": "text/x-python",
   "name": "python",
   "nbconvert_exporter": "python",
   "pygments_lexer": "ipython3",
   "version": "3.8.10"
  }
 },
 "nbformat": 4,
 "nbformat_minor": 5
}
